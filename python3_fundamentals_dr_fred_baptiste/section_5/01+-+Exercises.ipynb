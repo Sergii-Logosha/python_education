{
 "cells": [
  {
   "cell_type": "markdown",
   "id": "animal-encoding",
   "metadata": {},
   "source": [
    "### Exercises"
   ]
  },
  {
   "cell_type": "markdown",
   "id": "editorial-church",
   "metadata": {},
   "source": [
    "#### Exercise 1"
   ]
  },
  {
   "cell_type": "markdown",
   "id": "coordinated-victor",
   "metadata": {},
   "source": [
    "Given the following string:"
   ]
  },
  {
   "cell_type": "code",
   "id": "quick-symposium",
   "metadata": {
    "ExecuteTime": {
     "end_time": "2024-10-01T13:50:08.754085Z",
     "start_time": "2024-10-01T13:50:08.748140Z"
    }
   },
   "source": [
    "s = 'FfEeDdCcBbAa'"
   ],
   "outputs": [],
   "execution_count": 1
  },
  {
   "cell_type": "markdown",
   "id": "imported-crown",
   "metadata": {},
   "source": [
    "Create two new variables that contain just the lower and upper case letters of `s` respectively, in the correct alphabetical order, i.e:\n",
    "\n",
    "- `'ABCDEF'`\n",
    "- `'abcdef'`"
   ]
  },
  {
   "metadata": {
    "ExecuteTime": {
     "end_time": "2024-10-01T13:54:34.941964Z",
     "start_time": "2024-10-01T13:54:34.937397Z"
    }
   },
   "cell_type": "code",
   "source": [
    "lowercase_string = s[::-2]\n",
    "uppercase_string = s[-2::-2]\n",
    "\n",
    "print(lowercase_string)\n",
    "print(uppercase_string)"
   ],
   "id": "1b86483c07835e4e",
   "outputs": [
    {
     "name": "stdout",
     "output_type": "stream",
     "text": [
      "abcdef\n",
      "ABCDEF\n"
     ]
    }
   ],
   "execution_count": 4
  },
  {
   "cell_type": "markdown",
   "id": "copyrighted-spirit",
   "metadata": {},
   "source": [
    "#### Exercise 2"
   ]
  },
  {
   "cell_type": "markdown",
   "id": "powered-gazette",
   "metadata": {},
   "source": [
    "Concatenate the following tuples into a single one, but replacing the odd values with zeros (`0`)."
   ]
  },
  {
   "cell_type": "code",
   "id": "interior-webster",
   "metadata": {
    "ExecuteTime": {
     "end_time": "2024-10-01T14:00:59.547825Z",
     "start_time": "2024-10-01T14:00:59.544222Z"
    }
   },
   "source": [
    "t1 = 1, 2, 3, 4, 5, 6\n",
    "t2 = 7, 8, 9, 10\n",
    "t3 = 11, 12, 13, 14, 15, 16, 17"
   ],
   "outputs": [],
   "execution_count": 5
  },
  {
   "cell_type": "markdown",
   "id": "allied-ladder",
   "metadata": {},
   "source": [
    "You can assume that every tuple is a sequence of consecutive integers starting with an odd integer.\n",
    "\n",
    "Try to write your code to be as generic as possible."
   ]
  },
  {
   "metadata": {
    "ExecuteTime": {
     "end_time": "2024-10-01T15:26:49.670742Z",
     "start_time": "2024-10-01T15:26:49.665547Z"
    }
   },
   "cell_type": "code",
   "source": [
    "l = list(t1 + t2 + t3)\n",
    "l[::2] = [0] * len(l[::2]) \n",
    "t = tuple(l)\n",
    "t"
   ],
   "id": "60659800c10ae780",
   "outputs": [
    {
     "data": {
      "text/plain": [
       "(0, 2, 0, 4, 0, 6, 0, 8, 0, 10, 0, 12, 0, 14, 0, 16, 0)"
      ]
     },
     "execution_count": 24,
     "metadata": {},
     "output_type": "execute_result"
    }
   ],
   "execution_count": 24
  },
  {
   "cell_type": "markdown",
   "id": "controversial-crest",
   "metadata": {},
   "source": [
    "#### Exercise 3"
   ]
  },
  {
   "cell_type": "markdown",
   "id": "lucky-divide",
   "metadata": {},
   "source": [
    "Given the following matrix:"
   ]
  },
  {
   "cell_type": "code",
   "id": "israeli-porter",
   "metadata": {
    "ExecuteTime": {
     "end_time": "2024-10-01T17:55:46.413432Z",
     "start_time": "2024-10-01T17:55:46.410407Z"
    }
   },
   "source": [
    "m = [\n",
    "    [0, 0, 0],\n",
    "    [0, 0, 0],\n",
    "    [0, 0, 0]\n",
    "]"
   ],
   "outputs": [],
   "execution_count": 26
  },
  {
   "cell_type": "markdown",
   "id": "independent-blast",
   "metadata": {},
   "source": [
    "Make this matrix into an identity matrix (setting the diagonal elements to `1`).\n",
    "\n",
    "Your code should *mutate* `m`."
   ]
  },
  {
   "metadata": {
    "ExecuteTime": {
     "end_time": "2024-10-01T17:58:06.389339Z",
     "start_time": "2024-10-01T17:58:06.383278Z"
    }
   },
   "cell_type": "code",
   "source": [
    "copied_m = m.copy()\n",
    "copied_m[0][0] = 1\n",
    "copied_m[0][2] = 1\n",
    "copied_m[1][1] = 1\n",
    "copied_m[2][0] = 1\n",
    "copied_m[2][2] = 1\n",
    "m"
   ],
   "id": "34ab96feaafcd33f",
   "outputs": [
    {
     "data": {
      "text/plain": [
       "[[1, 0, 1], [0, 1, 0], [1, 0, 1]]"
      ]
     },
     "execution_count": 28,
     "metadata": {},
     "output_type": "execute_result"
    }
   ],
   "execution_count": 28
  },
  {
   "cell_type": "markdown",
   "id": "damaged-response",
   "metadata": {},
   "source": [
    "#### Exercise 4"
   ]
  },
  {
   "cell_type": "markdown",
   "id": "separated-april",
   "metadata": {},
   "source": [
    "Do the same problem as Exercise 3, but do **not** mutate `m`."
   ]
  },
  {
   "metadata": {
    "ExecuteTime": {
     "end_time": "2024-10-01T18:03:15.034154Z",
     "start_time": "2024-10-01T18:03:15.026200Z"
    }
   },
   "cell_type": "code",
   "source": [
    "from copy import deepcopy\n",
    "\n",
    "m = [\n",
    "    [0, 0, 0],\n",
    "    [0, 0, 0],\n",
    "    [0, 0, 0]\n",
    "]\n",
    "\n",
    "deepcopy_of_m = deepcopy(m)\n",
    "deepcopy_of_m[0][0] = 1\n",
    "deepcopy_of_m[0][2] = 1\n",
    "deepcopy_of_m[1][1] = 1\n",
    "deepcopy_of_m[2][0] = 1\n",
    "deepcopy_of_m[2][2] = 1\n",
    "\n",
    "deepcopy_of_m, m"
   ],
   "id": "2002570d4b583e65",
   "outputs": [
    {
     "data": {
      "text/plain": [
       "([[1, 0, 1], [0, 1, 0], [1, 0, 1]], [[0, 0, 0], [0, 0, 0], [0, 0, 0]])"
      ]
     },
     "execution_count": 31,
     "metadata": {},
     "output_type": "execute_result"
    }
   ],
   "execution_count": 31
  },
  {
   "cell_type": "markdown",
   "id": "respiratory-uniform",
   "metadata": {},
   "source": [
    "#### Exercise 5"
   ]
  },
  {
   "cell_type": "markdown",
   "id": "heard-hurricane",
   "metadata": {},
   "source": [
    "You are given a list of tuples that each contain 4 values:\n",
    "\n",
    "```\n",
    "(amount, currency, target_currency, exchange_rate)\n",
    "```"
   ]
  },
  {
   "cell_type": "code",
   "id": "positive-welcome",
   "metadata": {
    "ExecuteTime": {
     "end_time": "2024-10-01T18:11:01.953610Z",
     "start_time": "2024-10-01T18:11:01.949222Z"
    }
   },
   "source": [
    "data = [\n",
    "    (100, 'USD', 'EUR', 0.83),\n",
    "    (100, 'USD', 'CAD', 1.27),\n",
    "    (100, 'CAD', 'EUR', 0.65)\n",
    "]"
   ],
   "outputs": [],
   "execution_count": 33
  },
  {
   "cell_type": "markdown",
   "id": "alternative-lobby",
   "metadata": {},
   "source": [
    "Write code that converts the `amount` from its `currency` to its `target_currency` using the `exchange_rate` (which is the exchange rate for `1` `currency` in `target_currency`).\n",
    "\n",
    "Try to make your code as generic as possible (we'll see later how to use loops so we don't have to write three separate statements).\n",
    "\n",
    "In other words, you'll need three blocks of code here that are essentially almost identical.\n",
    "\n",
    "Use unpacking to assign the values in each tuple to variables.\n",
    "\n",
    "Your result for each row should print something like this out:\n",
    "\n",
    "```\n",
    "100 USD = 83 EUR\n",
    "```"
   ]
  },
  {
   "metadata": {
    "ExecuteTime": {
     "end_time": "2024-10-01T18:12:33.529987Z",
     "start_time": "2024-10-01T18:12:33.522240Z"
    }
   },
   "cell_type": "code",
   "source": [
    "amount, currency, target_currency, exchange_rate = data[0]\n",
    "print(f'{amount} {currency} = {int(amount * exchange_rate)} {target_currency}')\n",
    "\n",
    "amount, currency, target_currency, exchange_rate = data[1]\n",
    "print(f'{amount} {currency} = {int(amount * exchange_rate)} {target_currency}')\n",
    "\n",
    "amount, currency, target_currency, exchange_rate = data[2]\n",
    "print(f'{amount} {currency} = {int(amount * exchange_rate)} {target_currency}')"
   ],
   "id": "2ad1fea209a38146",
   "outputs": [
    {
     "name": "stdout",
     "output_type": "stream",
     "text": [
      "100 USD = 83 EUR\n",
      "100 USD = 127 CAD\n",
      "100 CAD = 65 EUR\n"
     ]
    }
   ],
   "execution_count": 37
  }
 ],
 "metadata": {
  "kernelspec": {
   "display_name": "Python 3",
   "language": "python",
   "name": "python3"
  },
  "language_info": {
   "codemirror_mode": {
    "name": "ipython",
    "version": 3
   },
   "file_extension": ".py",
   "mimetype": "text/x-python",
   "name": "python",
   "nbconvert_exporter": "python",
   "pygments_lexer": "ipython3",
   "version": "3.9.1"
  }
 },
 "nbformat": 4,
 "nbformat_minor": 5
}
