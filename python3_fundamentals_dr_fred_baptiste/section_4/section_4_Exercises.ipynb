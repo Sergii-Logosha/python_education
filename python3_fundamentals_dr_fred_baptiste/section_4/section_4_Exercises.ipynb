{
 "cells": [
  {
   "cell_type": "markdown",
   "id": "sensitive-saint",
   "metadata": {},
   "source": [
    "### Exercises"
   ]
  },
  {
   "metadata": {},
   "cell_type": "markdown",
   "source": "#### Exercise 1",
   "id": "d2076796b729ac0a"
  },
  {
   "cell_type": "markdown",
   "id": "trained-masters",
   "metadata": {},
   "source": [
    "Given a variable `a` (containing any value), re-assign the value `\"N/A\"` if `a` is `None`, and leave `a` unchanged otherwise. Use an `if...else...` statement."
   ]
  },
  {
   "metadata": {
    "ExecuteTime": {
     "end_time": "2024-08-24T18:35:23.135917Z",
     "start_time": "2024-08-24T18:35:23.131971Z"
    }
   },
   "cell_type": "code",
   "source": [
    "a = None\n",
    "\n",
    "if a is None:\n",
    "    a = \"N/A\"\n",
    "    \n",
    "print(a)"
   ],
   "id": "239e0ed34e721957",
   "outputs": [
    {
     "name": "stdout",
     "output_type": "stream",
     "text": [
      "N/A\n"
     ]
    }
   ],
   "execution_count": 2
  },
  {
   "cell_type": "markdown",
   "id": "growing-acoustic",
   "metadata": {},
   "source": [
    "#### Exercise 2"
   ]
  },
  {
   "cell_type": "markdown",
   "id": "hazardous-formula",
   "metadata": {},
   "source": [
    "Do the same thing as Question 1, but this time use a ternary operator."
   ]
  },
  {
   "metadata": {
    "ExecuteTime": {
     "end_time": "2024-08-24T18:37:30.251227Z",
     "start_time": "2024-08-24T18:37:30.247317Z"
    }
   },
   "cell_type": "code",
   "source": [
    "a = 13\n",
    "\n",
    "a = \"N/A\" if  a is None else a\n",
    "\n",
    "print(a)"
   ],
   "id": "f6b529c8de0393f9",
   "outputs": [
    {
     "name": "stdout",
     "output_type": "stream",
     "text": [
      "13\n"
     ]
    }
   ],
   "execution_count": 5
  },
  {
   "cell_type": "markdown",
   "id": "seasonal-bronze",
   "metadata": {},
   "source": [
    "#### Exercise 3"
   ]
  },
  {
   "cell_type": "markdown",
   "id": "atomic-authority",
   "metadata": {},
   "source": [
    "Given an credit score `score`, assign a string value to another variable `rating` based on the following scale:\n",
    "\n",
    "- [0, 580) --> Poor\n",
    "- [580, 670) --> Fair\n",
    "- [670, 740) --> Good\n",
    "- [740, 800) --> Very Good\n",
    "- [800, 850] --> Excellent\n"
   ]
  },
  {
   "metadata": {
    "ExecuteTime": {
     "end_time": "2024-08-24T18:44:46.054488Z",
     "start_time": "2024-08-24T18:44:46.049482Z"
    }
   },
   "cell_type": "code",
   "source": [
    "score = 700\n",
    "\n",
    "if 0 <= score <= 580:\n",
    "    rating  = 'Poor'\n",
    "elif 581 <= score <= 670:\n",
    "    rating = 'Fair'\n",
    "elif 671 <= score <= 740:\n",
    "    rating = 'Good'\n",
    "elif 741 <= score <= 800:\n",
    "    rating = 'Very Good'\n",
    "elif 801 <= score <= 850:\n",
    "    rating = 'Excellent'\n",
    "    \n",
    "print(rating)"
   ],
   "id": "6c14b0d38950a115",
   "outputs": [
    {
     "name": "stdout",
     "output_type": "stream",
     "text": [
      "Good\n"
     ]
    }
   ],
   "execution_count": 7
  },
  {
   "cell_type": "markdown",
   "id": "fiscal-estate",
   "metadata": {},
   "source": [
    "#### Exercise 4"
   ]
  },
  {
   "cell_type": "markdown",
   "id": "overhead-candidate",
   "metadata": {},
   "source": [
    "Given an `elapsed` time (in seconds), write code to set a variable `magnitude` based on the following conditions:\n",
    "\n",
    "- if elapsed time is less than 1 minute, `magnitude` --> `'seconds'`\n",
    "- if elapsed time is more than 1 minute, but less than 1 hour, `magnitude` --> `'minutes'`\n",
    "- if elapsed time is more than 1 hour, but less than 1 day, `magnitude` --> `'hours'`\n",
    "- if elapsed time is more than 1 day, but less than 1 week: `magnitude` --> `'days'`\n",
    "- if elapsed time is more than 1 week, `magnitude` --> '`weeks'`"
   ]
  },
  {
   "metadata": {
    "ExecuteTime": {
     "end_time": "2024-08-24T19:12:12.433993Z",
     "start_time": "2024-08-24T19:12:12.428796Z"
    }
   },
   "cell_type": "code",
   "source": [
    "elapsed = 56789\n",
    "minute = 60\n",
    "hour = minute * minute\n",
    "day = 24 * hour\n",
    "week = 7 * day\n",
    "\n",
    "if elapsed < minute:\n",
    "    magnitude = 'seconds'\n",
    "elif minute <= elapsed < hour:\n",
    "    magnitude = 'minutes'\n",
    "elif hour <= elapsed < day:\n",
    "    magnitude = 'hours'\n",
    "elif day <= elapsed < week:\n",
    "    magnitude = 'days'\n",
    "elif elapsed > week:\n",
    "    magnitude = 'weeks'\n",
    "\n",
    "print(magnitude)"
   ],
   "id": "dd521840a54832f3",
   "outputs": [
    {
     "name": "stdout",
     "output_type": "stream",
     "text": [
      "hours\n"
     ]
    }
   ],
   "execution_count": 9
  },
  {
   "metadata": {},
   "cell_type": "code",
   "outputs": [],
   "execution_count": null,
   "source": "",
   "id": "c8f660d2cc0d1f4e"
  }
 ],
 "metadata": {
  "kernelspec": {
   "display_name": "Python 3",
   "language": "python",
   "name": "python3"
  },
  "language_info": {
   "codemirror_mode": {
    "name": "ipython",
    "version": 3
   },
   "file_extension": ".py",
   "mimetype": "text/x-python",
   "name": "python",
   "nbconvert_exporter": "python",
   "pygments_lexer": "ipython3",
   "version": "3.9.1"
  }
 },
 "nbformat": 4,
 "nbformat_minor": 5
}
