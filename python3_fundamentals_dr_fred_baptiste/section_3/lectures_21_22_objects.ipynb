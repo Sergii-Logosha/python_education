{
 "cells": [
  {
   "cell_type": "code",
   "id": "initial_id",
   "metadata": {
    "collapsed": true,
    "ExecuteTime": {
     "end_time": "2024-05-11T14:45:23.982801Z",
     "start_time": "2024-05-11T14:45:23.974247Z"
    }
   },
   "source": "(10).__add__(100)",
   "outputs": [
    {
     "data": {
      "text/plain": [
       "110"
      ]
     },
     "execution_count": 1,
     "metadata": {},
     "output_type": "execute_result"
    }
   ],
   "execution_count": 1
  },
  {
   "metadata": {
    "ExecuteTime": {
     "end_time": "2024-05-11T14:45:44.169788Z",
     "start_time": "2024-05-11T14:45:44.163926Z"
    }
   },
   "cell_type": "code",
   "source": "0.125.as_integer_ratio()",
   "id": "4ecf04510068c6fd",
   "outputs": [
    {
     "data": {
      "text/plain": [
       "(1, 8)"
      ]
     },
     "execution_count": 2,
     "metadata": {},
     "output_type": "execute_result"
    }
   ],
   "execution_count": 2
  },
  {
   "metadata": {
    "ExecuteTime": {
     "end_time": "2024-05-11T14:45:56.545662Z",
     "start_time": "2024-05-11T14:45:56.539702Z"
    }
   },
   "cell_type": "code",
   "source": "0.1.as_integer_ratio()",
   "id": "fd341b7bfa3ed34b",
   "outputs": [
    {
     "data": {
      "text/plain": [
       "(3602879701896397, 36028797018963968)"
      ]
     },
     "execution_count": 3,
     "metadata": {},
     "output_type": "execute_result"
    }
   ],
   "execution_count": 3
  },
  {
   "metadata": {
    "ExecuteTime": {
     "end_time": "2024-05-11T14:52:17.909267Z",
     "start_time": "2024-05-11T14:52:17.901730Z"
    }
   },
   "cell_type": "code",
   "source": "dir(10)",
   "id": "2b4634f5c5a028ef",
   "outputs": [
    {
     "data": {
      "text/plain": [
       "['__abs__',\n",
       " '__add__',\n",
       " '__and__',\n",
       " '__bool__',\n",
       " '__ceil__',\n",
       " '__class__',\n",
       " '__delattr__',\n",
       " '__dir__',\n",
       " '__divmod__',\n",
       " '__doc__',\n",
       " '__eq__',\n",
       " '__float__',\n",
       " '__floor__',\n",
       " '__floordiv__',\n",
       " '__format__',\n",
       " '__ge__',\n",
       " '__getattribute__',\n",
       " '__getnewargs__',\n",
       " '__getstate__',\n",
       " '__gt__',\n",
       " '__hash__',\n",
       " '__index__',\n",
       " '__init__',\n",
       " '__init_subclass__',\n",
       " '__int__',\n",
       " '__invert__',\n",
       " '__le__',\n",
       " '__lshift__',\n",
       " '__lt__',\n",
       " '__mod__',\n",
       " '__mul__',\n",
       " '__ne__',\n",
       " '__neg__',\n",
       " '__new__',\n",
       " '__or__',\n",
       " '__pos__',\n",
       " '__pow__',\n",
       " '__radd__',\n",
       " '__rand__',\n",
       " '__rdivmod__',\n",
       " '__reduce__',\n",
       " '__reduce_ex__',\n",
       " '__repr__',\n",
       " '__rfloordiv__',\n",
       " '__rlshift__',\n",
       " '__rmod__',\n",
       " '__rmul__',\n",
       " '__ror__',\n",
       " '__round__',\n",
       " '__rpow__',\n",
       " '__rrshift__',\n",
       " '__rshift__',\n",
       " '__rsub__',\n",
       " '__rtruediv__',\n",
       " '__rxor__',\n",
       " '__setattr__',\n",
       " '__sizeof__',\n",
       " '__str__',\n",
       " '__sub__',\n",
       " '__subclasshook__',\n",
       " '__truediv__',\n",
       " '__trunc__',\n",
       " '__xor__',\n",
       " 'as_integer_ratio',\n",
       " 'bit_count',\n",
       " 'bit_length',\n",
       " 'conjugate',\n",
       " 'denominator',\n",
       " 'from_bytes',\n",
       " 'imag',\n",
       " 'is_integer',\n",
       " 'numerator',\n",
       " 'real',\n",
       " 'to_bytes']"
      ]
     },
     "execution_count": 4,
     "metadata": {},
     "output_type": "execute_result"
    }
   ],
   "execution_count": 4
  },
  {
   "metadata": {
    "ExecuteTime": {
     "end_time": "2024-05-11T15:00:10.233137Z",
     "start_time": "2024-05-11T15:00:10.228006Z"
    }
   },
   "cell_type": "code",
   "source": [
    "class Account:\n",
    "    def __init__(self, account_number, account_type, initial_balance):\n",
    "        self.account_number = account_number\n",
    "        self.account_type = account_type\n",
    "        self.balance = initial_balance\n",
    "        \n",
    "    def deposit(self, amount):\n",
    "        # should also check that amount is a numerical value!\n",
    "        if amount > 0:\n",
    "            self.balance = self.balance + amount\n",
    "            print(f'Deposited {amount}')\n",
    "            print(f'New balance is: {self.balance}')\n",
    "        else:\n",
    "            print(f'{amount} is an invalid amount.')\n",
    "            \n",
    "    def withdraw(self, amount):\n",
    "        # should also check that amount is a numerical value!\n",
    "        if 0 < amount <= self.balance:\n",
    "            self.balance = self.balance - amount\n",
    "            print(f'Withdrawal: {amount}')\n",
    "            print(f'New Balance: {self.balance}')\n",
    "        else:\n",
    "            if amount < 0:\n",
    "                print(f'{amount} is an invalid amount')\n",
    "            else:\n",
    "                print('Insufficient funds.')\n",
    "                print(f'Current balance is {self.balance}')"
   ],
   "id": "ccb7b8596c7fb4d6",
   "outputs": [],
   "execution_count": 7
  },
  {
   "metadata": {
    "ExecuteTime": {
     "end_time": "2024-05-11T15:01:52.414545Z",
     "start_time": "2024-05-11T15:01:52.411673Z"
    }
   },
   "cell_type": "code",
   "source": "mono_account = Account('123-456', 'savings', 40_000)",
   "id": "60b715fdc4c0af95",
   "outputs": [],
   "execution_count": 8
  },
  {
   "metadata": {
    "ExecuteTime": {
     "end_time": "2024-05-11T15:02:05.212298Z",
     "start_time": "2024-05-11T15:02:05.207373Z"
    }
   },
   "cell_type": "code",
   "source": "mono_account.account_number",
   "id": "cecdd0fae3e8442a",
   "outputs": [
    {
     "data": {
      "text/plain": [
       "'123-456'"
      ]
     },
     "execution_count": 9,
     "metadata": {},
     "output_type": "execute_result"
    }
   ],
   "execution_count": 9
  },
  {
   "metadata": {
    "ExecuteTime": {
     "end_time": "2024-05-11T15:02:14.924883Z",
     "start_time": "2024-05-11T15:02:14.918925Z"
    }
   },
   "cell_type": "code",
   "source": "mono_account.account_type",
   "id": "8e6b1d77fa352575",
   "outputs": [
    {
     "data": {
      "text/plain": [
       "'savings'"
      ]
     },
     "execution_count": 10,
     "metadata": {},
     "output_type": "execute_result"
    }
   ],
   "execution_count": 10
  },
  {
   "metadata": {
    "ExecuteTime": {
     "end_time": "2024-05-11T15:02:24.588359Z",
     "start_time": "2024-05-11T15:02:24.582546Z"
    }
   },
   "cell_type": "code",
   "source": "mono_account.balance",
   "id": "b636c60d02cf9dbe",
   "outputs": [
    {
     "data": {
      "text/plain": [
       "40000"
      ]
     },
     "execution_count": 11,
     "metadata": {},
     "output_type": "execute_result"
    }
   ],
   "execution_count": 11
  },
  {
   "metadata": {
    "ExecuteTime": {
     "end_time": "2024-05-11T15:06:21.507170Z",
     "start_time": "2024-05-11T15:06:21.503316Z"
    }
   },
   "cell_type": "code",
   "source": "mono_account.deposit(20_000)",
   "id": "4badbd6a990a6cce",
   "outputs": [
    {
     "name": "stdout",
     "output_type": "stream",
     "text": [
      "Deposited 20000\n",
      "New balance is: 60000\n"
     ]
    }
   ],
   "execution_count": 12
  },
  {
   "metadata": {
    "ExecuteTime": {
     "end_time": "2024-05-11T15:06:43.699497Z",
     "start_time": "2024-05-11T15:06:43.695862Z"
    }
   },
   "cell_type": "code",
   "source": "mono_account.withdraw(45_000)",
   "id": "aed3f6b2750a0149",
   "outputs": [
    {
     "name": "stdout",
     "output_type": "stream",
     "text": [
      "Withdrawal: 45000\n",
      "New Balance: 15000\n"
     ]
    }
   ],
   "execution_count": 13
  },
  {
   "metadata": {
    "ExecuteTime": {
     "end_time": "2024-05-11T15:07:01.898828Z",
     "start_time": "2024-05-11T15:07:01.895349Z"
    }
   },
   "cell_type": "code",
   "source": "mono_account.withdraw(20_000)",
   "id": "994f85f08327537a",
   "outputs": [
    {
     "name": "stdout",
     "output_type": "stream",
     "text": [
      "Insufficient funds.\n",
      "Current balance is 15000\n"
     ]
    }
   ],
   "execution_count": 14
  },
  {
   "metadata": {},
   "cell_type": "code",
   "outputs": [],
   "execution_count": null,
   "source": "",
   "id": "8f7f223d6deee99d"
  }
 ],
 "metadata": {
  "kernelspec": {
   "display_name": "Python 3",
   "language": "python",
   "name": "python3"
  },
  "language_info": {
   "codemirror_mode": {
    "name": "ipython",
    "version": 2
   },
   "file_extension": ".py",
   "mimetype": "text/x-python",
   "name": "python",
   "nbconvert_exporter": "python",
   "pygments_lexer": "ipython2",
   "version": "2.7.6"
  }
 },
 "nbformat": 4,
 "nbformat_minor": 5
}
