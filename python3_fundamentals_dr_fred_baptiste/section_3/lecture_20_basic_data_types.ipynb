{
 "cells": [
  {
   "cell_type": "code",
   "id": "initial_id",
   "metadata": {
    "collapsed": true,
    "ExecuteTime": {
     "end_time": "2024-05-11T10:29:21.582632Z",
     "start_time": "2024-05-11T10:29:21.573214Z"
    }
   },
   "source": "1",
   "outputs": [
    {
     "data": {
      "text/plain": [
       "1"
      ]
     },
     "execution_count": 1,
     "metadata": {},
     "output_type": "execute_result"
    }
   ],
   "execution_count": 1
  },
  {
   "metadata": {
    "ExecuteTime": {
     "end_time": "2024-05-11T10:29:29.077963Z",
     "start_time": "2024-05-11T10:29:29.072248Z"
    }
   },
   "cell_type": "code",
   "source": "0.1",
   "id": "d21c4acabb35c008",
   "outputs": [
    {
     "data": {
      "text/plain": [
       "0.1"
      ]
     },
     "execution_count": 2,
     "metadata": {},
     "output_type": "execute_result"
    }
   ],
   "execution_count": 2
  },
  {
   "metadata": {
    "ExecuteTime": {
     "end_time": "2024-05-11T10:29:56.899929Z",
     "start_time": "2024-05-11T10:29:56.893545Z"
    }
   },
   "cell_type": "code",
   "source": "format(0.1, '.25f')",
   "id": "ce46ca3ea6579d09",
   "outputs": [
    {
     "data": {
      "text/plain": [
       "'0.1000000000000000055511151'"
      ]
     },
     "execution_count": 3,
     "metadata": {},
     "output_type": "execute_result"
    }
   ],
   "execution_count": 3
  },
  {
   "metadata": {
    "ExecuteTime": {
     "end_time": "2024-05-11T10:35:19.856775Z",
     "start_time": "2024-05-11T10:35:19.849936Z"
    }
   },
   "cell_type": "code",
   "source": "format(0.125, '.25f')",
   "id": "6fbdb8dbb41f2589",
   "outputs": [
    {
     "data": {
      "text/plain": [
       "'0.1250000000000000000000000'"
      ]
     },
     "execution_count": 4,
     "metadata": {},
     "output_type": "execute_result"
    }
   ],
   "execution_count": 4
  },
  {
   "metadata": {
    "ExecuteTime": {
     "end_time": "2024-05-11T10:35:36.460261Z",
     "start_time": "2024-05-11T10:35:36.453491Z"
    }
   },
   "cell_type": "code",
   "source": "1 + 1 + 1 == 3",
   "id": "6e8c4a9e1eef2296",
   "outputs": [
    {
     "data": {
      "text/plain": [
       "True"
      ]
     },
     "execution_count": 5,
     "metadata": {},
     "output_type": "execute_result"
    }
   ],
   "execution_count": 5
  },
  {
   "metadata": {
    "ExecuteTime": {
     "end_time": "2024-05-11T10:36:03.609943Z",
     "start_time": "2024-05-11T10:36:03.604554Z"
    }
   },
   "cell_type": "code",
   "source": "0.1 + 0.1 == 0.2",
   "id": "bb901263a5be717",
   "outputs": [
    {
     "data": {
      "text/plain": [
       "True"
      ]
     },
     "execution_count": 6,
     "metadata": {},
     "output_type": "execute_result"
    }
   ],
   "execution_count": 6
  },
  {
   "metadata": {
    "ExecuteTime": {
     "end_time": "2024-05-11T10:36:27.063158Z",
     "start_time": "2024-05-11T10:36:27.057790Z"
    }
   },
   "cell_type": "code",
   "source": "0.1 + 0.1 + 0.1 == 0.3",
   "id": "7eda2f5cbdc34891",
   "outputs": [
    {
     "data": {
      "text/plain": [
       "False"
      ]
     },
     "execution_count": 7,
     "metadata": {},
     "output_type": "execute_result"
    }
   ],
   "execution_count": 7
  },
  {
   "metadata": {
    "ExecuteTime": {
     "end_time": "2024-05-11T10:37:06.262183Z",
     "start_time": "2024-05-11T10:37:06.255831Z"
    }
   },
   "cell_type": "code",
   "source": "format(0.3, '.25f')",
   "id": "9d7cbcbe57cc5c91",
   "outputs": [
    {
     "data": {
      "text/plain": [
       "'0.2999999999999999888977698'"
      ]
     },
     "execution_count": 8,
     "metadata": {},
     "output_type": "execute_result"
    }
   ],
   "execution_count": 8
  },
  {
   "metadata": {
    "ExecuteTime": {
     "end_time": "2024-05-11T10:41:40.501704Z",
     "start_time": "2024-05-11T10:41:40.495779Z"
    }
   },
   "cell_type": "code",
   "source": "((0.1 + 0.1 + 0.1) - 0.3) < 0.01",
   "id": "e836d006d1fd1b9e",
   "outputs": [
    {
     "data": {
      "text/plain": [
       "True"
      ]
     },
     "execution_count": 9,
     "metadata": {},
     "output_type": "execute_result"
    }
   ],
   "execution_count": 9
  },
  {
   "metadata": {
    "ExecuteTime": {
     "end_time": "2024-05-11T10:51:06.510771Z",
     "start_time": "2024-05-11T10:51:06.505883Z"
    }
   },
   "cell_type": "code",
   "source": [
    "import sys\n",
    "sys.float_info.epsilon"
   ],
   "id": "21d6335a86ef9681",
   "outputs": [
    {
     "data": {
      "text/plain": [
       "2.220446049250313e-16"
      ]
     },
     "execution_count": 10,
     "metadata": {},
     "output_type": "execute_result"
    }
   ],
   "execution_count": 10
  },
  {
   "metadata": {},
   "cell_type": "code",
   "outputs": [],
   "execution_count": null,
   "source": "",
   "id": "a99abe4731808a7b"
  }
 ],
 "metadata": {
  "kernelspec": {
   "display_name": "Python 3",
   "language": "python",
   "name": "python3"
  },
  "language_info": {
   "codemirror_mode": {
    "name": "ipython",
    "version": 2
   },
   "file_extension": ".py",
   "mimetype": "text/x-python",
   "name": "python",
   "nbconvert_exporter": "python",
   "pygments_lexer": "ipython2",
   "version": "2.7.6"
  }
 },
 "nbformat": 4,
 "nbformat_minor": 5
}
